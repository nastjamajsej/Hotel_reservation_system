{
  "nbformat": 4,
  "nbformat_minor": 0,
  "metadata": {
    "colab": {
      "provenance": []
    },
    "kernelspec": {
      "name": "python3",
      "display_name": "Python 3"
    },
    "language_info": {
      "name": "python"
    }
  },
  "cells": [
    {
      "cell_type": "markdown",
      "source": [
        "Разработайте систему бронирования номеров в отеле.\n",
        "\n",
        "![](https://github.com/dm-fedorov/python_basic/blob/master/gsom/02/reception_1.jpg?raw=True)\n",
        "\n"
      ],
      "metadata": {
        "id": "uoua-oUZbo9X"
      }
    },
    {
      "cell_type": "markdown",
      "source": [
        "Tasks:\n",
        "- create the Hotel class and its methods\n",
        "- write an `occypy` method that will check the availability of a room and book it: if the room is occupied, then (`raise`) a `RuntimeError` exception is generated\n",
        "- write a `free` method to free numbers\n",
        "- write a `__str__` method to beautifully print a list of numbers by calling the `print` function\n",
        "- write a method that occupies all *free* rooms in the hotel\n",
        "- write a method that returns the percentage of occupied numbers\n",
        "- write a method that releases all occupied hotel rooms\n",
        "- write a method that returns revenue based on the occupancy of the rooms (the cost of the room is 5 thousand USD)\n",
        "- check the created methods by creating objects and calling them"
      ],
      "metadata": {
        "id": "GnRxIs5nb7gQ"
      }
    },
    {
      "cell_type": "code",
      "execution_count": null,
      "metadata": {
        "id": "_3_nmLNqbc5G"
      },
      "outputs": [],
      "source": [
        "class Hotel:\n",
        "  def __init__(self, num_rooms):\n",
        "    self._rooms = [0 for _ in range(num_rooms)] # информация о статусе номеров\n",
        "\n",
        "  # метод для бронирования номера по уникальному значению в списке\n",
        "  def occupy(self, room_id):\n",
        "    # проверяем занятость номера перед бронировнием\n",
        "    if self._rooms[room_id - 1] == 1:\n",
        "      raise RuntimeError(\"Выбранный вами номер уже занят\")\n",
        "    self._rooms[room_id - 1] = 1  # бронируем номер\n",
        "\n",
        "  # метод для освобождения номера по уникальному значению в списке\n",
        "  def free(self, room_id):\n",
        "    self._rooms[room_id - 1] = 0  # освобождаем номер\n",
        "\n",
        "  # метод для красивой печати списка номеров\n",
        "  def __str__(self):\n",
        "    free_rooms = \"\"\n",
        "    occupied_rooms = \"\"\n",
        "    room_id = 1\n",
        "    for room in self._rooms:\n",
        "      if room == 0:\n",
        "        free_rooms = free_rooms + str(room_id) + \" \"\n",
        "      else:\n",
        "       occupied_rooms = occupied_rooms + str(room_id) + \" \"\n",
        "      room_id += 1\n",
        "    return f\"Свободные номера: {free_rooms}\\nЗанятые номера: {occupied_rooms}\\n\"\n",
        "\n",
        "  # метод, который занимает все свободные номера в отеле\n",
        "  def occupy_all_free(self):\n",
        "    room_id = 1\n",
        "    for room in self._rooms:\n",
        "      if room == 0:\n",
        "        self.occupy(room_id)\n",
        "      room_id += 1\n",
        "    \n",
        "  # метод, который возвращает долю занятых номеров\n",
        "  def occupied_share(self):\n",
        "    occupied_rooms = []\n",
        "    room_id = 1\n",
        "    for room in self._rooms:\n",
        "      if room == 1:\n",
        "       occupied_rooms.append(room_id)\n",
        "      room_id += 1\n",
        "    return f\"Доля занятых номеров: {len(occupied_rooms) / len(self._rooms)}\\n\"\n",
        "\n",
        "  # метод, который освобождает все занятые номера отеля\n",
        "  def free_all_occupied(self):\n",
        "    room_id = 1\n",
        "    for room in self._rooms:\n",
        "      if room == 1:\n",
        "        self.free(room_id)\n",
        "      room_id += 1\n",
        "\n",
        "  # метод, который возвращает выручку, исходя из занятости комнат (стоимость комнаты - 5 тыс. у.е.)\n",
        "  def count_proceeds(self):\n",
        "    occupied_rooms = []\n",
        "    room_id = 1\n",
        "    for room in self._rooms:\n",
        "      if room == 1:\n",
        "       occupied_rooms.append(room_id)\n",
        "      room_id += 1\n",
        "    return f\"Выручка: {5000 * len(occupied_rooms)}\\n\""
      ]
    },
    {
      "cell_type": "markdown",
      "source": [
        "Testing generated methods by creating objects and calling their methods"
      ],
      "metadata": {
        "id": "I3XfjSugdOEQ"
      }
    },
    {
      "cell_type": "code",
      "source": [
        "hotel = Hotel(10) # в нашем отеле, например, 10 номеров\n",
        "print(hotel) # смотрим номера \n",
        "\n",
        "hotel.occupy(7) # бронируем 7 номер\n",
        "print(hotel) # смотрим номера\n",
        "\n",
        "print(hotel.count_proceeds()) # считем выручку\n",
        "\n",
        "print(hotel.occupied_share()) # считаем долю занятых номеров\n",
        "\n",
        "hotel.occupy_all_free() # броинруем все свободные номера\n",
        "print(hotel) # смотрим номера\n",
        "\n",
        "hotel.free_all_occupied() # освобождаем все забронированные номера\n",
        "print(hotel) # смотрим номера\n",
        "\n",
        "hotel.occupy(5) # бронируем 5 номер\n",
        "print(hotel) # смотрим номера\n",
        "\n",
        "hotel.occupy(5) # пробуем забронировать уже занятый номер (проверяем, возникает ли ошибка)"
      ],
      "metadata": {
        "colab": {
          "base_uri": "https://localhost:8080/",
          "height": 651
        },
        "id": "nsuBDIU1b5PW",
        "outputId": "ec4161a5-fabc-41de-d14b-3d38e4d3f8f9"
      },
      "execution_count": null,
      "outputs": [
        {
          "output_type": "stream",
          "name": "stdout",
          "text": [
            "Свободные номера: 1 2 3 4 5 6 7 8 9 10 \n",
            "Занятые номера: \n",
            "\n",
            "Свободные номера: 1 2 3 4 5 6 8 9 10 \n",
            "Занятые номера: 7 \n",
            "\n",
            "Выручка: 5000\n",
            "\n",
            "Доля занятых номеров: 0.1\n",
            "\n",
            "Свободные номера: \n",
            "Занятые номера: 1 2 3 4 5 6 7 8 9 10 \n",
            "\n",
            "Свободные номера: 1 2 3 4 5 6 7 8 9 10 \n",
            "Занятые номера: \n",
            "\n",
            "Свободные номера: 1 2 3 4 6 7 8 9 10 \n",
            "Занятые номера: 5 \n",
            "\n"
          ]
        },
        {
          "output_type": "error",
          "ename": "RuntimeError",
          "evalue": "ignored",
          "traceback": [
            "\u001b[0;31m---------------------------------------------------------------------------\u001b[0m",
            "\u001b[0;31mRuntimeError\u001b[0m                              Traceback (most recent call last)",
            "\u001b[0;32m<ipython-input-5-83dd47652086>\u001b[0m in \u001b[0;36m<module>\u001b[0;34m\u001b[0m\n\u001b[1;32m     18\u001b[0m \u001b[0mprint\u001b[0m\u001b[0;34m(\u001b[0m\u001b[0mhotel\u001b[0m\u001b[0;34m)\u001b[0m \u001b[0;31m# смотрим номера\u001b[0m\u001b[0;34m\u001b[0m\u001b[0;34m\u001b[0m\u001b[0m\n\u001b[1;32m     19\u001b[0m \u001b[0;34m\u001b[0m\u001b[0m\n\u001b[0;32m---> 20\u001b[0;31m \u001b[0mhotel\u001b[0m\u001b[0;34m.\u001b[0m\u001b[0moccupy\u001b[0m\u001b[0;34m(\u001b[0m\u001b[0;36m5\u001b[0m\u001b[0;34m)\u001b[0m \u001b[0;31m# пробуем забронировать уже занятый номер (проверяем, возникает ли ошибка)\u001b[0m\u001b[0;34m\u001b[0m\u001b[0;34m\u001b[0m\u001b[0m\n\u001b[0m",
            "\u001b[0;32m<ipython-input-1-648de0ade3ca>\u001b[0m in \u001b[0;36moccupy\u001b[0;34m(self, room_id)\u001b[0m\n\u001b[1;32m      7\u001b[0m     \u001b[0;31m# проверяем занятость номера перед бронировнием\u001b[0m\u001b[0;34m\u001b[0m\u001b[0;34m\u001b[0m\u001b[0;34m\u001b[0m\u001b[0m\n\u001b[1;32m      8\u001b[0m     \u001b[0;32mif\u001b[0m \u001b[0mself\u001b[0m\u001b[0;34m.\u001b[0m\u001b[0m_rooms\u001b[0m\u001b[0;34m[\u001b[0m\u001b[0mroom_id\u001b[0m \u001b[0;34m-\u001b[0m \u001b[0;36m1\u001b[0m\u001b[0;34m]\u001b[0m \u001b[0;34m==\u001b[0m \u001b[0;36m1\u001b[0m\u001b[0;34m:\u001b[0m\u001b[0;34m\u001b[0m\u001b[0;34m\u001b[0m\u001b[0m\n\u001b[0;32m----> 9\u001b[0;31m       \u001b[0;32mraise\u001b[0m \u001b[0mRuntimeError\u001b[0m\u001b[0;34m(\u001b[0m\u001b[0;34m\"Выбранный вами номер уже занят\"\u001b[0m\u001b[0;34m)\u001b[0m\u001b[0;34m\u001b[0m\u001b[0;34m\u001b[0m\u001b[0m\n\u001b[0m\u001b[1;32m     10\u001b[0m     \u001b[0mself\u001b[0m\u001b[0;34m.\u001b[0m\u001b[0m_rooms\u001b[0m\u001b[0;34m[\u001b[0m\u001b[0mroom_id\u001b[0m \u001b[0;34m-\u001b[0m \u001b[0;36m1\u001b[0m\u001b[0;34m]\u001b[0m \u001b[0;34m=\u001b[0m \u001b[0;36m1\u001b[0m  \u001b[0;31m# бронируем номер\u001b[0m\u001b[0;34m\u001b[0m\u001b[0;34m\u001b[0m\u001b[0m\n\u001b[1;32m     11\u001b[0m \u001b[0;34m\u001b[0m\u001b[0m\n",
            "\u001b[0;31mRuntimeError\u001b[0m: Выбранный вами номер уже занят"
          ]
        }
      ]
    },
    {
      "cell_type": "markdown",
      "source": [
        "Additional tasks:\n",
        "\n",
        "- instead of a list, create a dictionary to store different types of rooms (SGL, DBL and Junior Suite, Suite) and their occupancy\n",
        "rooms have different prices (you can store it in a dictionary)\n",
        "- change the methods written earlier to take into account new features of the rooms (for example, adding a room type when booking)\n",
        "- check the created methods through creating objects and calling them"
      ],
      "metadata": {
        "id": "tRmN2MiVdcwy"
      }
    },
    {
      "cell_type": "code",
      "source": [
        "class ModernHotel:\n",
        "  def __init__(self, sgl_num, sgl_price, dbl_num, dbl_price, junsuite_num, junsuite_price, suite_num, suite_price):\n",
        "    # информация о номерах хранится в словаре, где ключ - тип номера, \n",
        "    # значение - словарь с количеством номеров такого типа, ценой номера и кол-вом сободных номеров такого типа\n",
        "    self._rooms = {\"SGL\" : {\"amount\" : sgl_num, \"price\" : sgl_price, \"free\" : sgl_num}, \n",
        "                   \"DBL\" : {\"amount\" : dbl_num, \"price\" : dbl_price, \"free\" : dbl_num}, \n",
        "                   \"Junior Suite\" : {\"amount\" : junsuite_num, \"price\" : junsuite_price, \"free\" : junsuite_num}, \n",
        "                   \"Suite\" : {\"amount\" : suite_num, \"price\" : suite_price, \"free\" : suite_num}}\n",
        "\n",
        "  # метод для красивой печати списка номеров\n",
        "  def __str__(self):\n",
        "    result_str = \"\"\n",
        "    for room_type in self._rooms:\n",
        "      result_str = (result_str + \"\\n\" + room_type + \": \" + str(self._rooms[room_type][\"free\"]) + \n",
        "                    \" номеров свободно, \" + \"стоимость номера: \" + str(self._rooms[room_type][\"price\"]))\n",
        "    return result_str    \n",
        "\n",
        "  # метод для бронирования номера \n",
        "  # теперь пользователь будет запрашивать на бронирование номер определенного типа\n",
        "  def occupy(self, room_type):\n",
        "    # если свободных номеров такого типа нет, выдаем ошибку\n",
        "    if self._rooms[room_type][\"free\"] == 0:\n",
        "      raise RuntimeError(\"Все номера этого типа заняты\")\n",
        "    self._rooms[room_type][\"free\"] -= 1  # бронируем номер\n",
        "\n",
        "  # метод для освобождения номера определенного типа\n",
        "  def free(self, room_type):\n",
        "    self._rooms[room_type][\"free\"] += 1  # освобождаем номер\n",
        "\n",
        "  # метод, который занимает все свободные номера в отеле\n",
        "  def occupy_all_free(self):\n",
        "    for room_type in self._rooms:\n",
        "      self._rooms[room_type][\"free\"] = 0\n",
        "\n",
        "  # метод, который освобождает все занятые номера отеля\n",
        "  def free_all_occupied(self):\n",
        "    for room_type in self._rooms:\n",
        "      self._rooms[room_type][\"free\"] = self._rooms[room_type][\"amount\"]\n",
        "\n",
        "  # метод, который возвращает долю занятых номеров\n",
        "  def occupied_share(self):\n",
        "    occupied_amount = 0\n",
        "    total_amount = 0\n",
        "    for room_type in self._rooms:\n",
        "      occupied_amount += self._rooms[room_type][\"amount\"] - self._rooms[room_type][\"free\"]\n",
        "      total_amount += self._rooms[room_type][\"amount\"]\n",
        "    return f\"\\nДоля занятых номеров: {occupied_amount / total_amount}\"\n",
        "\n",
        "  # метод, который возвращает выручку, исходя из занятости комнат и их стоимости\n",
        "  def count_proceeds(self):\n",
        "    proceeds = 0\n",
        "    for room_type in self._rooms:\n",
        "      proceeds += self._rooms[room_type][\"price\"] * (self._rooms[room_type][\"amount\"] - self._rooms[room_type][\"free\"])\n",
        "    return f\"\\nВыручка: {proceeds}\""
      ],
      "metadata": {
        "id": "Y2BbPFOEdRXR"
      },
      "execution_count": null,
      "outputs": []
    },
    {
      "cell_type": "markdown",
      "source": [
        "Testing a hotel with different types of rooms"
      ],
      "metadata": {
        "id": "5vogElIsdtOn"
      }
    },
    {
      "cell_type": "code",
      "source": [
        "# создаем отель. в нем 6 SGL номеров по цене 2000, 4 DBL номера по цене 3000, 3 Junior Suite номера по цене 4000 и 2 Suite номера по цене 6000\n",
        "modern_hotel = ModernHotel(6, 2000, 4, 3000, 3, 4000, 2, 6000)\n",
        "print(modern_hotel) # смотрим номера\n",
        "\n",
        "modern_hotel.occupy(\"SGL\") # бронируем SGL номер\n",
        "print(modern_hotel) # смотрим номера\n",
        "\n",
        "print(modern_hotel.occupied_share()) # считаем долю занятых номеров\n",
        "\n",
        "print(modern_hotel.count_proceeds()) # считем выручку\n",
        "\n",
        "modern_hotel.free(\"SGL\") # освобождаем SGL номер\n",
        "print(modern_hotel) # смотрим номера\n",
        "\n",
        "modern_hotel.occupy_all_free() # броинруем все свободные номера\n",
        "print(modern_hotel) # смотрим номера\n",
        "\n",
        "modern_hotel.free_all_occupied() # освобождаем все забронированные номера\n",
        "print(modern_hotel) # смотрим номера\n",
        "\n",
        "# бронируем 6 SGL номеров\n",
        "modern_hotel.occupy(\"SGL\")\n",
        "modern_hotel.occupy(\"SGL\")\n",
        "modern_hotel.occupy(\"SGL\")\n",
        "modern_hotel.occupy(\"SGL\")\n",
        "modern_hotel.occupy(\"SGL\")\n",
        "modern_hotel.occupy(\"SGL\")\n",
        "print(modern_hotel) # смотрим номера\n",
        "\n",
        "# пытаемся забронировать еще один SGL номер (смотрим, будет ли ошибка)\n",
        "modern_hotel.occupy(\"SGL\")"
      ],
      "metadata": {
        "colab": {
          "base_uri": "https://localhost:8080/",
          "height": 912
        },
        "id": "FRUpBS6hdoMq",
        "outputId": "b483509b-3098-4d40-f1f1-9663f258d8a2"
      },
      "execution_count": null,
      "outputs": [
        {
          "output_type": "stream",
          "name": "stdout",
          "text": [
            "\n",
            "SGL: 6 номеров свободно, стоимость номера: 2000\n",
            "DBL: 4 номеров свободно, стоимость номера: 3000\n",
            "Junior Suite: 3 номеров свободно, стоимость номера: 4000\n",
            "Suite: 2 номеров свободно, стоимость номера: 6000\n",
            "\n",
            "SGL: 5 номеров свободно, стоимость номера: 2000\n",
            "DBL: 4 номеров свободно, стоимость номера: 3000\n",
            "Junior Suite: 3 номеров свободно, стоимость номера: 4000\n",
            "Suite: 2 номеров свободно, стоимость номера: 6000\n",
            "\n",
            "Доля занятых номеров: 0.06666666666666667\n",
            "\n",
            "Выручка: 2000\n",
            "\n",
            "SGL: 6 номеров свободно, стоимость номера: 2000\n",
            "DBL: 4 номеров свободно, стоимость номера: 3000\n",
            "Junior Suite: 3 номеров свободно, стоимость номера: 4000\n",
            "Suite: 2 номеров свободно, стоимость номера: 6000\n",
            "\n",
            "SGL: 0 номеров свободно, стоимость номера: 2000\n",
            "DBL: 0 номеров свободно, стоимость номера: 3000\n",
            "Junior Suite: 0 номеров свободно, стоимость номера: 4000\n",
            "Suite: 0 номеров свободно, стоимость номера: 6000\n",
            "\n",
            "SGL: 6 номеров свободно, стоимость номера: 2000\n",
            "DBL: 4 номеров свободно, стоимость номера: 3000\n",
            "Junior Suite: 3 номеров свободно, стоимость номера: 4000\n",
            "Suite: 2 номеров свободно, стоимость номера: 6000\n",
            "\n",
            "SGL: 0 номеров свободно, стоимость номера: 2000\n",
            "DBL: 4 номеров свободно, стоимость номера: 3000\n",
            "Junior Suite: 3 номеров свободно, стоимость номера: 4000\n",
            "Suite: 2 номеров свободно, стоимость номера: 6000\n"
          ]
        },
        {
          "output_type": "error",
          "ename": "RuntimeError",
          "evalue": "ignored",
          "traceback": [
            "\u001b[0;31m---------------------------------------------------------------------------\u001b[0m",
            "\u001b[0;31mRuntimeError\u001b[0m                              Traceback (most recent call last)",
            "\u001b[0;32m<ipython-input-4-42ba53460dd0>\u001b[0m in \u001b[0;36m<module>\u001b[0;34m\u001b[0m\n\u001b[1;32m     29\u001b[0m \u001b[0;34m\u001b[0m\u001b[0m\n\u001b[1;32m     30\u001b[0m \u001b[0;31m# пытаемся забронировать еще один SGL номер (смотрим, будет ли ошибка)\u001b[0m\u001b[0;34m\u001b[0m\u001b[0;34m\u001b[0m\u001b[0;34m\u001b[0m\u001b[0m\n\u001b[0;32m---> 31\u001b[0;31m \u001b[0mmodern_hotel\u001b[0m\u001b[0;34m.\u001b[0m\u001b[0moccupy\u001b[0m\u001b[0;34m(\u001b[0m\u001b[0;34m\"SGL\"\u001b[0m\u001b[0;34m)\u001b[0m\u001b[0;34m\u001b[0m\u001b[0;34m\u001b[0m\u001b[0m\n\u001b[0m",
            "\u001b[0;32m<ipython-input-3-1c40e7a7b14b>\u001b[0m in \u001b[0;36moccupy\u001b[0;34m(self, room_type)\u001b[0m\n\u001b[1;32m     21\u001b[0m     \u001b[0;31m# если свободных номеров такого типа нет, выдаем ошибку\u001b[0m\u001b[0;34m\u001b[0m\u001b[0;34m\u001b[0m\u001b[0;34m\u001b[0m\u001b[0m\n\u001b[1;32m     22\u001b[0m     \u001b[0;32mif\u001b[0m \u001b[0mself\u001b[0m\u001b[0;34m.\u001b[0m\u001b[0m_rooms\u001b[0m\u001b[0;34m[\u001b[0m\u001b[0mroom_type\u001b[0m\u001b[0;34m]\u001b[0m\u001b[0;34m[\u001b[0m\u001b[0;34m\"free\"\u001b[0m\u001b[0;34m]\u001b[0m \u001b[0;34m==\u001b[0m \u001b[0;36m0\u001b[0m\u001b[0;34m:\u001b[0m\u001b[0;34m\u001b[0m\u001b[0;34m\u001b[0m\u001b[0m\n\u001b[0;32m---> 23\u001b[0;31m       \u001b[0;32mraise\u001b[0m \u001b[0mRuntimeError\u001b[0m\u001b[0;34m(\u001b[0m\u001b[0;34m\"Все номера этого типа заняты\"\u001b[0m\u001b[0;34m)\u001b[0m\u001b[0;34m\u001b[0m\u001b[0;34m\u001b[0m\u001b[0m\n\u001b[0m\u001b[1;32m     24\u001b[0m     \u001b[0mself\u001b[0m\u001b[0;34m.\u001b[0m\u001b[0m_rooms\u001b[0m\u001b[0;34m[\u001b[0m\u001b[0mroom_type\u001b[0m\u001b[0;34m]\u001b[0m\u001b[0;34m[\u001b[0m\u001b[0;34m\"free\"\u001b[0m\u001b[0;34m]\u001b[0m \u001b[0;34m-=\u001b[0m \u001b[0;36m1\u001b[0m  \u001b[0;31m# бронируем номер\u001b[0m\u001b[0;34m\u001b[0m\u001b[0;34m\u001b[0m\u001b[0m\n\u001b[1;32m     25\u001b[0m \u001b[0;34m\u001b[0m\u001b[0m\n",
            "\u001b[0;31mRuntimeError\u001b[0m: Все номера этого типа заняты"
          ]
        }
      ]
    }
  ]
}